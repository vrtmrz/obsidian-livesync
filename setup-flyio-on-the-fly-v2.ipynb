{
  "cells": [
    {
      "cell_type": "markdown",
      "metadata": {
        "colab_type": "text",
        "id": "view-in-github"
      },
      "source": [
        "<a href=\"https://colab.research.google.com/gist/vrtmrz/9402b101746e08e969b1a4f5f0deb465/setup-flyio-on-the-fly-v2.ipynb\" target=\"_parent\"><img src=\"https://colab.research.google.com/assets/colab-badge.svg\" alt=\"Open In Colab\"/></a>"
      ]
    },
    {
      "cell_type": "markdown",
      "metadata": {
        "id": "AzLlAcLFRO5A"
      },
      "source": [
        "- Initial version 7th Feb. 2024"
      ]
    },
    {
      "cell_type": "code",
      "execution_count": null,
      "metadata": {
        "id": "z1x8DQpa9opC"
      },
      "outputs": [],
      "source": [
        "# Install prerequesties\n",
        "!curl -L https://fly.io/install.sh | sh\n",
        "!curl -fsSL https://deno.land/x/install/install.sh | sh\n",
        "!apt update && apt -y install jq\n",
        "import os\n",
        "%env PATH=/root/.fly/bin:/root/.deno/bin/:{os.environ[\"PATH\"]}\n",
        "!git clone --recursive https://github.com/vrtmrz/obsidian-livesync"
      ]
    },
    {
      "cell_type": "code",
      "execution_count": null,
      "metadata": {
        "id": "mGN08BaFDviy"
      },
      "outputs": [],
      "source": [
        "# Login up sign up\n",
        "!flyctl auth signup"
      ]
    },
    {
      "cell_type": "markdown",
      "metadata": {
        "id": "BBFTFOP6vA8m"
      },
      "source": [
        "Select a region and execute the block."
      ]
    },
    {
      "cell_type": "code",
      "execution_count": null,
      "metadata": {
        "id": "TNl0A603EF9E"
      },
      "outputs": [],
      "source": [
        "# see https://fly.io/docs/reference/regions/\n",
        "region = \"nrt/Tokyo, Japan\" #@param [\"jnb/Johannesburg, South Africa\",\"bom/Mumbai, India\",\"sin/Singapore, Singapore\",\"syd/Sydney, Australia\",\"nrt/Tokyo, Japan\",\"ams/Amsterdam, Netherlands\",\"fra/Frankfurt, Germany\",\"lhr/London, United Kingdom\",\"cdg/Paris, France\",\"arn/Stockholm, Sweden\",\"iad/Ashburn, Virginia (US)\",\"ord/Chicago, Illinois (US)\",\"dfw/Dallas, Texas (US)\",\"lax/Los Angeles, California (US)\",\"sjc/San Jose, California (US)\",\"ewr/Secaucus, NJ (US)\",\"yyz/Toronto, Canada\",\"gru/Sao Paulo, Brazil\"]
 {allow-input: true}\n",
        "%env region={region.split(\"/\")[0]}\n",
        "#%env appame=\n",
        "#%env username=\n",
        "#%env password=\n",
        "#%env database=\n",
        "#%env passphrase=\n",
        "\n",
        "# automatic setup leave it  -->\n",
        "%cd obsidian-livesync/utils/flyio\n",
        "!./deploy-server.sh | tee deploy-result.txt\n",
        "\n",
        "## Show result button\n",
        "from IPython.display import HTML\n",
        "last_line=\"\"\n",
        "with open('deploy-result.txt', 'r') as f:\n",
        "  last_line = f.readlines()[-1]\n",
        "  last_line = str.strip(last_line)\n",
        "\n",
        "if last_line.startswith(\"obsidian://\"):\n",
        "  result = HTML(f\"Copy your setup-URI with this button! -&gt; <button onclick=\\\"navigator.clipboard.writeText('{last_line}')\\\">Copy setup uri</button><br>Importing passphrase is displayed one. <br>If you want to synchronise in live mode, please apply a preset after ensuring the imported configuration works.\")\n",
        "else:\n",
        "  result = \"Failed to encrypt the setup URI\"\n",
        "result"
      ]
    },
    {
      "cell_type": "markdown",
      "metadata": {
        "id": "oeIzExnEKhFp"
      },
      "source": [
        "If you see the `Copy setup URI` button, Congratulations! Your CouchDB is ready to use! Please click the button. And open this on Obsidian.\n",
        "\n",
        "And, you should keep the output to your secret memo.\n",
        "\n"
      ]
    },
    {
      "cell_type": "markdown",
      "metadata": {
        "id": "sdQrqOjERN3K"
      },
      "source": [
        "\n",
        "\n",
        "---\n",
        "\n",
        "\n",
        "If you want to delete this CouchDB instance, you can do it by executing next cell.  \n",
        "If your fly.toml has been gone, access https://fly.io/dashboard and check the existing app."
      ]
    },
    {
      "cell_type": "code",
      "execution_count": null,
      "metadata": {
        "id": "7JMSkNvVIIfg"
      },
      "outputs": [],
      "source": [
        "!./delete-server.sh"
      ]
    }
  ],
  "metadata": {
    "colab": {
      "authorship_tag": "ABX9TyMexQ5pErH5LBG2tENtEVWf",
      "include_colab_link": true,
      "private_outputs": true,
      "provenance": []
    },
    "kernelspec": {
      "display_name": "Python 3",
      "name": "python3"
    },
    "language_info": {
      "name": "python"
    }
  },
  "nbformat": 4,
  "nbformat_minor": 0
}
